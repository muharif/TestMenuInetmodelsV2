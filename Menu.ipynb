{
 "cells": [
  {
   "cell_type": "code",
   "execution_count": null,
   "metadata": {},
   "outputs": [],
   "source": [
    "import ipywidgets as ipyw\n",
    "import pandas as pd\n",
    "from IPython.display import display, clear_output\n",
    "\n",
    "temp=pd.read_csv('category_final.txt',sep='\\t',index_col=0)\n",
    "dict1=temp.groupby('network_type')['type_category'].apply(lambda x: list(set(x))).to_dict()\n",
    "# dict1[None]=[None]\n",
    "dict2=temp.groupby('type_category')['name_category'].apply(lambda x: list(set(x))).to_dict()\n",
    "dict2[None]=[None]\n",
    "dp1 = ipyw.Dropdown(options = dict1.keys(), description='network_type')\n",
    "dp2 = ipyw.Dropdown(options = dict1[dp1.value], description='type_category',value=None)\n",
    "dp3 = ipyw.Dropdown(options = dict2[dp2.value], description='name_category',value=None)\n",
    "global_vbox = ipyw.VBox()\n",
    "global_vbox.children = [dp1,dp2,dp3]\n",
    "display(global_vbox)\n",
    "\n",
    "outs = ipyw.Output()\n",
    "\n",
    "\n",
    "def change_content1(x):\n",
    "    global dp1\n",
    "    global dp2\n",
    "    dp2.index = 0\n",
    "    dp2.options=dict1[dp1.value]\n",
    "\n",
    "def change_content2(x):\n",
    "    global dp3\n",
    "    global dp2\n",
    "    global dp1\n",
    "    dp3.index = None\n",
    "    dp3.index = 0\n",
    "    dp3.options=dict2[dp2.value]\n",
    "\n",
    "def change_content3(x):\n",
    "    with outs:\n",
    "        clear_output()\n",
    "        if dp1.value == 'Multi-Omics Network':\n",
    "            box1 = ipyw.Checkbox(True, description='Metabolite')\n",
    "            box2 = ipyw.Checkbox(True, description='Clinical Data')\n",
    "            box3 = ipyw.Checkbox(True, description='Proteomics')\n",
    "            box4 = ipyw.Checkbox(True, description='Microbiome')\n",
    "            boxL= ipyw.VBox([box1,box2])\n",
    "            boxR= ipyw.VBox([box3,box4])\n",
    "            display(ipyw.VBox([box1,box2,box3,box4]))\n",
    "        else:\n",
    "            box0 = ipyw.Checkbox(True, description='Gene')\n",
    "            box1 = ipyw.Checkbox(False, description='Metabolite')\n",
    "            box2 = ipyw.Checkbox(False, description='Clinical Data')\n",
    "            box3 = ipyw.Checkbox(False, description='Proteomics')\n",
    "            box4 = ipyw.Checkbox(False, description='Microbiome')\n",
    "            boxL= ipyw.VBox([box1,box2])\n",
    "            boxR= ipyw.VBox([box3,box4])\n",
    "            display(ipyw.VBox([box0]))\n",
    "\n",
    "\n",
    "dp1.observe(change_content1)\n",
    "dp1.observe(change_content3, names='value')\n",
    "dp2.observe(change_content2)\n",
    "display(outs)"
   ]
  },
  {
   "cell_type": "code",
   "execution_count": null,
   "metadata": {},
   "outputs": [],
   "source": []
  }
 ],
 "metadata": {
  "kernelspec": {
   "display_name": "Python 3",
   "language": "python",
   "name": "python3"
  },
  "language_info": {
   "codemirror_mode": {
    "name": "ipython",
    "version": 3
   },
   "file_extension": ".py",
   "mimetype": "text/x-python",
   "name": "python",
   "nbconvert_exporter": "python",
   "pygments_lexer": "ipython3",
   "version": "3.7.4"
  }
 },
 "nbformat": 4,
 "nbformat_minor": 4
}
